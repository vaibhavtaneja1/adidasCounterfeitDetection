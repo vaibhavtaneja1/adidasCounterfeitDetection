{
 "cells": [
  {
   "cell_type": "code",
   "execution_count": 1,
   "metadata": {
    "colab": {
     "base_uri": "https://localhost:8080/",
     "height": 34
    },
    "colab_type": "code",
    "id": "ZGh60i8m9UYt",
    "outputId": "fdc3ee8a-a53b-4cb8-c9e7-bead26eb915f"
   },
   "outputs": [
    {
     "name": "stdout",
     "output_type": "stream",
     "text": [
      "Drive already mounted at /content/drive; to attempt to forcibly remount, call drive.mount(\"/content/drive\", force_remount=True).\n"
     ]
    }
   ],
   "source": [
    "from google.colab import drive\n",
    "drive.mount('/content/drive')"
   ]
  },
  {
   "cell_type": "code",
   "execution_count": 2,
   "metadata": {
    "colab": {},
    "colab_type": "code",
    "id": "7aQJ9b8M9ZMz"
   },
   "outputs": [],
   "source": [
    "import numpy as np\n",
    "import matplotlib.pyplot as plt\n",
    "from tensorflow.keras.preprocessing.image import ImageDataGenerator\n",
    "from keras.layers import GlobalAveragePooling2D, Dense, Dropout, Flatten, Conv2D, MaxPooling2D\n",
    "from keras.models import Sequential, Model\n",
    "from keras.applications.vgg16 import VGG16\n",
    "from keras.optimizers import Adam\n",
    "from keras.callbacks import ModelCheckpoint, LearningRateScheduler, EarlyStopping, ReduceLROnPlateau"
   ]
  },
  {
   "cell_type": "code",
   "execution_count": 3,
   "metadata": {
    "colab": {},
    "colab_type": "code",
    "id": "I5RmFDnB9ZrL"
   },
   "outputs": [],
   "source": [
    "def generate_trainingdata(train_dir, tgt_img_size):\n",
    "  '''\n",
    "  Desc: Function for image augmentation of training data\n",
    "  Parameters:\n",
    "            train_dir: directory in which training images are available\n",
    "            tgt_img_size: target image size which is needed in output\n",
    "  Returns:\n",
    "          train_generator: data of augmented images which is to be used as i/p\n",
    "  '''\n",
    "  train_datagen = ImageDataGenerator(rescale=1. / 255.0,\n",
    "                                    horizontal_flip = False, \n",
    "                                    vertical_flip = False,\n",
    "                                    height_shift_range= 0.2, \n",
    "                                    width_shift_range=0.2, \n",
    "                                    rotation_range=45, \n",
    "                                    shear_range = 0.2,\n",
    "                                    zoom_range=0.25)\n",
    "  train_generator = train_datagen.flow_from_directory(train_dir,\n",
    "                                                      batch_size=20,\n",
    "                                                      class_mode='binary',\n",
    "                                                      target_size=tgt_img_size)\n",
    "  return train_generator\n",
    "\n",
    "\n",
    "def generate_validationdata(validation_dir, tgt_img_size):\n",
    "  '''\n",
    "  Desc: Function for image augmentation of validation data\n",
    "  Parameters:\n",
    "            validation_dir: directory in which test images are available\n",
    "            tgt_img_size: target image size which is needed in output\n",
    "  Returns:\n",
    "          validation_generator: data of augmented images which is to be used\n",
    "                                to test the model\n",
    "  '''\n",
    "  test_datagen = ImageDataGenerator(rescale = 1.0/255.)\n",
    "  validation_generator = test_datagen.flow_from_directory(validation_dir,\n",
    "                                                          batch_size = 20,\n",
    "                                                          class_mode = 'binary',\n",
    "                                                          target_size = tgt_img_size)\n",
    "  return validation_generator"
   ]
  },
  {
   "cell_type": "code",
   "execution_count": 4,
   "metadata": {
    "colab": {},
    "colab_type": "code",
    "id": "IlgZnbUyra5l"
   },
   "outputs": [],
   "source": [
    "def get_vggmodel_layers(freezerange = 'block5_pool'):\n",
    "  '''\n",
    "  Desc: get initial weights of vgg model layers for transfer learning\n",
    "  Returns:\n",
    "          vgg_model_layers: weights for selected vgg model layers\n",
    "  '''\n",
    "  model = VGG16(include_top=True, weights = 'imagenet')\n",
    "\n",
    "  transfer_layers = model.get_layer(freezerange)\n",
    "  vgg_model_layers = Model(inputs = model.input,\n",
    "                          outputs = transfer_layers.output)\n",
    "  \n",
    "  for layer in vgg_model_layers.layers:\n",
    "    layer.trainable = False\n",
    "  return vgg_model_layers"
   ]
  },
  {
   "cell_type": "code",
   "execution_count": 5,
   "metadata": {
    "colab": {},
    "colab_type": "code",
    "id": "Km3Qd83NOz5L"
   },
   "outputs": [],
   "source": [
    "def model_detector(vggtransfer_layers, optimizer, loss, metrics):\n",
    "  '''\n",
    "  Desc: Function to build neural network model\n",
    "  Parameters:\n",
    "            vggtransfer_layers: trained layers to be used from vgg model\n",
    "            optimizer: optimizer to be used in model\n",
    "            loss: loss function to be used for optimization\n",
    "            metrics: metrics to be used for evaluation\n",
    "  Returns:\n",
    "            fake_detector: a compiled model\n",
    "  '''\n",
    "  # get vgg model layers\n",
    "  vgg_model_layers = get_vggmodel_layers(vggtransfer_layers)\n",
    "\n",
    "  #start building model\n",
    "  fake_detector = Sequential()\n",
    "  fake_detector.add(vgg_model_layers)\n",
    "  fake_detector.add(MaxPooling2D(pool_size=(2,2)))\n",
    "\n",
    "  fake_detector.add(Flatten())\n",
    "  fake_detector.add(Dropout(0.2))\n",
    "  fake_detector.add(Dense(64, activation='relu'))\n",
    "  fake_detector.add(Dropout(0.2))\n",
    "  fake_detector.add(Dense(1, activation='sigmoid'))\n",
    "\n",
    "  #compile the model\n",
    "  fake_detector.compile(optimizer=optimizer, loss=loss, metrics=metrics)\n",
    "\n",
    "  return fake_detector"
   ]
  },
  {
   "cell_type": "code",
   "execution_count": 6,
   "metadata": {
    "colab": {},
    "colab_type": "code",
    "id": "v29g7_09xWe0"
   },
   "outputs": [],
   "source": [
    "def plot_results(trainacc, testacc, trainloss, testloss, epoch):\n",
    "  '''\n",
    "  Desc: plots the results which are returned by the trained model\n",
    "  Parameters:\n",
    "            trainacc: array of training accuracy for each epoch\n",
    "            testacc: array of testing accuracy for each epoch\n",
    "            trainloss: array of values of loss func during training\n",
    "            testloss: array of value of loss func during testing\n",
    "            epoch: epochs\n",
    "  Returns:\n",
    "            fig: figure which contains the plots\n",
    "  '''\n",
    "  fig, ax = plt.subplots(1,2, figsize = (15,5))\n",
    "  ax[0].plot(epoch, trainloss, label = 'Training')\n",
    "  ax[0].plot(epoch, testloss, label = 'Validation')\n",
    "  ax[0].set_title('Loss Function')\n",
    "  ax[0].set_xlabel('Epochs')\n",
    "  ax[0].set_ylabel('Loss')\n",
    "  ax[0].legend()\n",
    "\n",
    "  ax[1].plot(epoch, trainacc, label = 'Training')\n",
    "  ax[1].plot(epoch, testacc, label = 'Validation')\n",
    "  ax[1].set_title('Accuracy Plot')\n",
    "  ax[1].set_xlabel('Epochs')\n",
    "  ax[1].set_ylabel('Accuracy')\n",
    "  ax[1].legend()\n",
    "\n",
    "  \n",
    "  return fig"
   ]
  },
  {
   "cell_type": "code",
   "execution_count": 7,
   "metadata": {
    "colab": {},
    "colab_type": "code",
    "id": "dqyTkDFM2-Eh"
   },
   "outputs": [],
   "source": [
    "def savemodel(trainedmodel):\n",
    "  '''\n",
    "  Desc: saves the trained model\n",
    "  '''\n",
    "  trainedmodel.save(\"/content/drive/My Drive/Colab Notebooks/DeepLearningProj/trained_fakedetector.h5\")\n"
   ]
  },
  {
   "cell_type": "code",
   "execution_count": 8,
   "metadata": {
    "colab": {},
    "colab_type": "code",
    "id": "7RGPZTvwupU7"
   },
   "outputs": [],
   "source": [
    "def main():\n",
    "  \n",
    "  #initializing the variables\n",
    "  train_dir = '/content/drive/My Drive/Colab Notebooks/DeepLearningProj/Images/train'\n",
    "  validation_dir = '/content/drive/My Drive/Colab Notebooks/DeepLearningProj/Images/validation'\n",
    "  tgt_img_size = (224,224)\n",
    "\n",
    "  train_data = generate_trainingdata(train_dir, tgt_img_size)\n",
    "  test_data = generate_validationdata(validation_dir, tgt_img_size)\n",
    "\n",
    "  #initializing the hyperparameters for the model\n",
    "  _optimizer = Adam(lr=1e-3)\n",
    "  _loss = 'binary_crossentropy'\n",
    "  _metrics = ['accuracy']\n",
    "\n",
    "  #calling the model\n",
    "  counterfeit_detector_model = model_detector(vggtransfer_layers='block5_conv2',\n",
    "                                              optimizer = _optimizer,\n",
    "                                              loss = _loss,\n",
    "                                              metrics = _metrics)\n",
    "\n",
    "\n",
    "  #training the model\n",
    "  trained_model = counterfeit_detector_model.fit(\n",
    "                                  train_data,\n",
    "                                  validation_data = test_data,\n",
    "                                  epochs = 17,\n",
    "                                  verbose = 2)\n",
    "  \n",
    "  #get the accuracy for each epoch\n",
    "  train_accuracy = trained_model.history['accuracy']\n",
    "  test_accuracy = trained_model.history['val_accuracy']\n",
    "  \n",
    "  #get the loss function value for each epoch\n",
    "  train_loss = trained_model.history['loss']\n",
    "  test_loss = trained_model.history['val_loss']\n",
    "\n",
    "  epochs = range(len(train_accuracy))\n",
    "\n",
    "  #get the plots for loss & accuracy\n",
    "  fig_results = plot_results(trainacc= train_accuracy,\n",
    "                             testacc = test_accuracy,\n",
    "                             trainloss = train_loss,\n",
    "                             testloss = test_loss,\n",
    "                             epoch = epochs)\n",
    "  \n",
    "  fig_results;\n",
    "\n",
    "  # saving the model\n",
    "  savemodel(counterfeit_detector_model)"
   ]
  },
  {
   "cell_type": "code",
   "execution_count": 9,
   "metadata": {
    "colab": {
     "base_uri": "https://localhost:8080/",
     "height": 989
    },
    "colab_type": "code",
    "id": "_8fU7jtu05s7",
    "outputId": "6ebcef16-bd4f-4626-f711-12a0afdd6e96"
   },
   "outputs": [
    {
     "name": "stdout",
     "output_type": "stream",
     "text": [
      "Found 118 images belonging to 2 classes.\n",
      "Found 29 images belonging to 2 classes.\n",
      "Epoch 1/17\n"
     ]
    },
    {
     "name": "stderr",
     "output_type": "stream",
     "text": [
      "/usr/local/lib/python3.6/dist-packages/PIL/Image.py:932: UserWarning: Palette images with Transparency expressed in bytes should be converted to RGBA images\n",
      "  \"Palette images with Transparency expressed in bytes should be \"\n"
     ]
    },
    {
     "name": "stdout",
     "output_type": "stream",
     "text": [
      "6/6 - 3s - loss: 3.5180 - accuracy: 0.5085 - val_loss: 2.9901 - val_accuracy: 0.5862\n",
      "Epoch 2/17\n",
      "6/6 - 2s - loss: 1.3726 - accuracy: 0.7288 - val_loss: 1.4561 - val_accuracy: 0.4828\n",
      "Epoch 3/17\n",
      "6/6 - 2s - loss: 1.7742 - accuracy: 0.5339 - val_loss: 0.7816 - val_accuracy: 0.7241\n",
      "Epoch 4/17\n",
      "6/6 - 2s - loss: 0.8840 - accuracy: 0.6441 - val_loss: 0.5792 - val_accuracy: 0.6207\n",
      "Epoch 5/17\n",
      "6/6 - 2s - loss: 0.5460 - accuracy: 0.7373 - val_loss: 0.4801 - val_accuracy: 0.7241\n",
      "Epoch 6/17\n",
      "6/6 - 2s - loss: 0.5209 - accuracy: 0.7458 - val_loss: 0.4056 - val_accuracy: 0.8621\n",
      "Epoch 7/17\n",
      "6/6 - 2s - loss: 0.4860 - accuracy: 0.7881 - val_loss: 0.3632 - val_accuracy: 0.9310\n",
      "Epoch 8/17\n",
      "6/6 - 2s - loss: 0.4386 - accuracy: 0.8390 - val_loss: 0.3293 - val_accuracy: 0.9310\n",
      "Epoch 9/17\n",
      "6/6 - 2s - loss: 0.3848 - accuracy: 0.8220 - val_loss: 0.2976 - val_accuracy: 0.8621\n",
      "Epoch 10/17\n",
      "6/6 - 2s - loss: 0.4207 - accuracy: 0.7966 - val_loss: 0.3269 - val_accuracy: 0.8621\n",
      "Epoch 11/17\n",
      "6/6 - 2s - loss: 0.3327 - accuracy: 0.8559 - val_loss: 0.2980 - val_accuracy: 0.8966\n",
      "Epoch 12/17\n",
      "6/6 - 2s - loss: 0.3352 - accuracy: 0.8390 - val_loss: 0.3067 - val_accuracy: 0.8621\n",
      "Epoch 13/17\n",
      "6/6 - 2s - loss: 0.3055 - accuracy: 0.8559 - val_loss: 0.3026 - val_accuracy: 0.8621\n",
      "Epoch 14/17\n",
      "6/6 - 2s - loss: 0.2806 - accuracy: 0.8898 - val_loss: 0.2971 - val_accuracy: 0.8621\n",
      "Epoch 15/17\n",
      "6/6 - 2s - loss: 0.3241 - accuracy: 0.8390 - val_loss: 0.3616 - val_accuracy: 0.8621\n",
      "Epoch 16/17\n",
      "6/6 - 2s - loss: 0.2774 - accuracy: 0.8814 - val_loss: 0.3985 - val_accuracy: 0.8276\n",
      "Epoch 17/17\n",
      "6/6 - 2s - loss: 0.2320 - accuracy: 0.9237 - val_loss: 0.3234 - val_accuracy: 0.8621\n"
     ]
    },
    {
     "data": {
      "image/png": "[encoded data removed]",
      "text/plain": [
       "<Figure size 1080x360 with 2 Axes>"
      ]
     },
     "metadata": {
      "needs_background": "light",
      "tags": []
     },
     "output_type": "display_data"
    }
   ],
   "source": [
    "if __name__ == \"__main__\": \n",
    "  main()"
   ]
  },
  {
   "cell_type": "code",
   "execution_count": 9,
   "metadata": {
    "colab": {},
    "colab_type": "code",
    "id": "hzkj6Q9U9X2Z"
   },
   "outputs": [],
   "source": []
  }
 ],
 "metadata": {
  "accelerator": "GPU",
  "colab": {
   "collapsed_sections": [],
   "name": "DeepLearningProject.ipynb",
   "provenance": []
  },
  "kernelspec": {
   "display_name": "Python 3",
   "language": "python",
   "name": "python3"
  },
  "language_info": {
   "codemirror_mode": {
    "name": "ipython",
    "version": 3
   },
   "file_extension": ".py",
   "mimetype": "text/x-python",
   "name": "python",
   "nbconvert_exporter": "python",
   "pygments_lexer": "ipython3",
   "version": "3.7.4"
  }
 },
 "nbformat": 4,
 "nbformat_minor": 1
}
